{
  "nbformat": 4,
  "nbformat_minor": 0,
  "metadata": {
    "colab": {
      "name": "test_ozon2",
      "provenance": [],
      "collapsed_sections": [],
      "mount_file_id": "1lvwJvN5-1DbWZwfRyc6noc9hhz6DsGov",
      "authorship_tag": "ABX9TyNWK4dMwFOh47yoAL7wjGs9",
      "include_colab_link": true
    },
    "kernelspec": {
      "name": "python3",
      "display_name": "Python 3"
    },
    "language_info": {
      "name": "python"
    }
  },
  "cells": [
    {
      "cell_type": "markdown",
      "metadata": {
        "id": "view-in-github",
        "colab_type": "text"
      },
      "source": [
        "<a href=\"https://colab.research.google.com/github/lomasterI/test-task/blob/main/test_ozon2.ipynb\" target=\"_parent\"><img src=\"https://colab.research.google.com/assets/colab-badge.svg\" alt=\"Open In Colab\"/></a>"
      ]
    },
    {
      "cell_type": "code",
      "metadata": {
        "id": "PL23YDePR7vA"
      },
      "source": [
        "import sqlite3"
      ],
      "execution_count": null,
      "outputs": []
    },
    {
      "cell_type": "code",
      "metadata": {
        "id": "wBtO3WnESS41"
      },
      "source": [
        "conn = sqlite3.connect(r'/content/drive/MyDrive/Users.db')"
      ],
      "execution_count": null,
      "outputs": []
    },
    {
      "cell_type": "code",
      "metadata": {
        "id": "9xiy1PUATcsB"
      },
      "source": [
        "cur = conn.cursor()"
      ],
      "execution_count": null,
      "outputs": []
    },
    {
      "cell_type": "code",
      "metadata": {
        "id": "H9cL3VwzTy8H"
      },
      "source": [
        "conn.execute(\"\"\"CREATE TABLE IF NOT EXISTS user(\n",
        "  id primary key,\n",
        "  status ,\n",
        "  name ,\n",
        "  type ,\n",
        "  created)\"\"\")\n",
        "conn.commit()"
      ],
      "execution_count": null,
      "outputs": []
    },
    {
      "cell_type": "code",
      "metadata": {
        "id": "opPU0PMlXRsw"
      },
      "source": [
        "conn.execute(\"\"\"CREATE TABLE IF NOT EXISTS user_status_history(\n",
        "  id primary key,\n",
        "  user_id,\n",
        "  old_status  text not null,\n",
        "  new_status  text not null,\n",
        "  reason text not null,\n",
        "  created timestamp\t)\"\"\")\n",
        "conn.commit()"
      ],
      "execution_count": null,
      "outputs": []
    },
    {
      "cell_type": "code",
      "metadata": {
        "id": "v2RGUp5cqdFB"
      },
      "source": [
        "us = [\n",
        "      (1, 'block', 'Дорохов Максим Николаевич', 1, '2010-01-12 04:07:06.000000'),\n",
        "      (2, 'reg', 'Ильина София Викторовна', 2, '2016-12-26 07:52:55.000000'),\n",
        "      (3, 'ok', 'Шаров Лев Антонович', 3, '2015-07-29 06:05:26.000000'),\n",
        "      (4, 'ok', 'Троицкая Мария Никитична', 4, '2014-09-17 04:34:19.000000'),\n",
        "      (5, 'error', 'Родионова Даниэла Макаровна', 1, '2013-11-05 21:51:45.000000'),\n",
        "      (6, 'error', 'Богомолова Мария Давидовна', 2, '2010-02-08 09:42:35.000000'),\n",
        "      (7, 'invalid_status', 'Лапин Георгий Фёдорович', 3, '2017-06-20 18:21:05.000000'),\n",
        "      (8, 'ok', 'Климова Ева Богдановна', 4, '2019-02-20 15:02:14.000000'),\n",
        "      (9, 'reg', 'Зимин Кирилл Святославович', 1, '2019-07-30 22:26:29.000000'),\n",
        "      (10, 'error', 'Зайцева Николь Вячеславовна', 2, '2011-03-08 22:57:34.000000'),\n",
        "      (11, 'block', 'Вдовина Полина Марковна', 3, '2011-04-26 22:08:06.000000'),\n",
        "      (12, 'ok', 'Скворцов Егор Ибрагимович', 4, '2013-03-27 09:01:12.000000'),\n",
        "      (13, 'block', 'Кондратьева Кира Никитична', 1, '2018-03-15 21:31:01.000000'),\n",
        "      (14, 'block', 'Петрова Ульяна Данииловна', 2, '2016-06-23 20:24:51.000000'),\n",
        "      (15, 'error', 'Козлова Елена Данииловна', 5, '2020-06-23 20:23:42.000000'),\n",
        "      (16, 'error', 'Симонов Сергей Семонович', 4, '2020-04-19 16:23:42.000000'),\n",
        "      (17, 'error', 'Поморцева Ольга Владиславовна', 5, '2020-01-19 08:17:41.000000')\n",
        "]"
      ],
      "execution_count": null,
      "outputs": []
    },
    {
      "cell_type": "code",
      "metadata": {
        "id": "1zuHyQ5YqczI"
      },
      "source": [
        "ush = [\n",
        "       (105, 17, 'reg', 'error', 'Can''t write DB', '2020-01-19 08:19:41.000000') ,\n",
        "  (98, 17, 'new', 'reg', 'Start registration', '2020-01-19 08:17:41.000000') ,\n",
        "  (71, 16, 'error', 'error', 'AntiFraud', '2020-04-25 13:18:40.000000') ,\n",
        "  (100, 16, 'ok', 'error', 'Validation error', '2020-04-20 13:16:40.000000') ,\n",
        "  (82, 16, 'reg', 'ok', 'Success registartion', '2020-04-19 16:27:42.000000') ,\n",
        "  (77, 16, 'new', 'reg', 'Start registration', '2020-04-19 16:23:42.000000') ,\n",
        "  (70, 15, 'ok', 'error', 'Error registartion', '2029-06-23 20:25:44.000000') ,\n",
        "  (66, 15, 'reg', 'ok', 'Success registartion', '2029-06-23 20:25:42.000000') ,\n",
        "  (102, 15, 'new', 'reg', 'Start registration', '2029-06-23 20:23:42.000000') ,\n",
        "  (75, 14, 'ok', 'error', 'AntiFraud', '2016-09-14 10:15:54.000000') ,\n",
        "  (93, 14, 'reg', 'ok', 'Success registartion', '2016-06-23 20:34:51.000000') ,\n",
        "  (67, 14, 'new', 'reg', 'Start registration', '2016-06-23 20:24:51.000000') ,\n",
        "  (74, 13, 'ok', 'error', 'Validation error', '2018-08-19 14:31:00.000000') ,\n",
        "  (62, 13, 'reg', 'ok', 'Success registartion', '2018-03-15 21:37:01.000000') ,\n",
        "  (80, 13, 'new', 'reg', 'Start registration', '2018-03-15 21:31:01.000000') ,\n",
        "  (63, 12, 'reg', 'ok', 'Success registartion', '2013-03-27 09:13:12.000000') ,\n",
        "  (101, 12, 'new', 'reg', 'Start registration', '2013-03-27 09:01:12.000000') ,\n",
        "  (97, 11, 'ok', 'block', 'User delete account', '2011-10-28 17:17:06.000000') ,\n",
        "  (84, 11, 'reg', 'ok', 'Success registartion', '2011-04-26 23:08:06.000000') ,\n",
        "  (83, 11, 'new', 'reg', 'Start registration', '2011-04-26 22:08:06.000000') ,\n",
        "  (61, 10, 'ok', 'error', 'AntiFraud', '2020-04-23 13:16:40.000000') ,\n",
        "  (68, 10, 'error', 'ok', 'Support help', '2020-04-21 13:16:40.000000') ,\n",
        "  (79, 10, 'ok', 'error', 'Validation error', '2020-04-20 13:16:40.000000') ,\n",
        "  (69, 10, 'reg', 'ok', 'Success registartion', '2020-04-19 16:24:42.000000') ,\n",
        "  (104, 10, 'new', 'reg', 'Start registration', '2020-04-19 16:23:42.000000') ,\n",
        "  (73, 9, 'new', 'reg', 'Start registration', '2019-07-30 22:26:29.000000') ,\n",
        "  (96, 8, 'reg', 'ok', 'Success registartion', '2019-07-20 15:02:14.000000') ,\n",
        "  (92, 8, 'new', 'reg', 'Start registration', '2019-02-20 15:02:14.000000') ,\n",
        "  (91, 7, 'ok', 'error', 'Balance error', '2017-08-23 15:15:05.000000') ,\n",
        "  (95, 7, 'reg', 'ok', 'Success registartion', '2017-06-20 18:25:07.000000') ,\n",
        "  (65, 7, 'new', 'reg', 'Start registration', '2017-06-20 18:21:05.000000') ,\n",
        "  (106, 6, 'ok', 'error', 'Balance error', '2010-06-08 05:45:33.000000') ,\n",
        "  (94, 6, 'new', 'reg', 'Start registration', '2010-02-08 09:42:35.000000') ,\n",
        "  (103, 6, 'reg', 'ok', 'Success registartion', '2010-02-08 09:42:35.000000') ,\n",
        "  (90, 5, 'ok', 'error', 'Validation error', '2013-12-11 17:51:45.000000') ,\n",
        "  (89, 5, 'reg', 'ok', 'Success registartion', '2013-11-05 21:54:45.000000') ,\n",
        "  (86, 5, 'new', 'reg', 'Start registration', '2013-11-05 21:51:45.000000') ,\n",
        "  (88, 4, 'reg', 'ok', 'Success registartion', '2014-09-17 04:39:19.000000') ,\n",
        "  (81, 4, 'new', 'reg', 'Start registration', '2014-09-17 04:34:19.000000') ,\n",
        "  (85, 3, 'reg', 'ok', 'Success registartion', '2015-07-29 07:05:26.000000') ,\n",
        "  (78, 3, 'new', 'reg', 'Start registration', '2015-07-29 06:05:26.000000') ,\n",
        "  (87, 2, 'new', 'reg', 'Start registration', '2016-12-26 07:52:55.000000') ,\n",
        "  (64, 1, 'ok', 'block', 'User delete account', '2010-04-12 06:10:06.000000') ,\n",
        "  (72, 1, 'new', 'reg', 'Start registration', '2010-01-12 04:07:06.000000') ,\n",
        "  (76, 1, 'reg', 'ok', 'Success registartion', '2010-01-12 04:07:06.000000')\n",
        "]"
      ],
      "execution_count": null,
      "outputs": []
    },
    {
      "cell_type": "code",
      "metadata": {
        "id": "xRVGLH2WqcmD"
      },
      "source": [
        "cur.executemany(\"INSERT INTO user VALUES(?, ?, ?, ?, ?)\", us)\n",
        "cur.executemany(\"INSERT INTO user_status_history VALUES(?, ?, ?, ?,?, ?)\", ush)\n",
        "conn.commit()"
      ],
      "execution_count": null,
      "outputs": []
    },
    {
      "cell_type": "code",
      "metadata": {
        "colab": {
          "base_uri": "https://localhost:8080/"
        },
        "id": "t84aSjCWk-ym",
        "outputId": "cb51d482-248e-4bdc-c75d-87d5527ce2af"
      },
      "source": [
        "cur.execute(\"\"\"\n",
        "SELECT FROM user_status_history\n",
        "WHERE user_status_history.created = (SELECT MAX(created) FROM user_status_history)\n",
        ";\"\"\")\n",
        "print(cur.fetchall())"
      ],
      "execution_count": null,
      "outputs": [
        {
          "output_type": "stream",
          "text": [
            "[(70, 15, 'ok', 'error', 'Error registartion', '2029-06-23 20:25:44.000000')]\n"
          ],
          "name": "stdout"
        }
      ]
    },
    {
      "cell_type": "code",
      "metadata": {
        "colab": {
          "base_uri": "https://localhost:8080/"
        },
        "id": "vnp7SVVOj9Vz",
        "outputId": "460fe5d7-12ff-4620-ccea-c6abb250858b"
      },
      "source": [
        "result1 = cur.execute(\"\"\"\n",
        "SELECT user.name, user.id, user.created, user_status_history.reason\n",
        "from user_status_history, user \n",
        "where reason ='Validation error'\n",
        "and old_status ='ok' \n",
        "and new_status = 'error'\n",
        "and user_status_history.user_id=user.id\n",
        "UNION\n",
        "SELECT user.name, user.id, user.created, user_status_history.reason\n",
        "from user_status_history, user \n",
        "where reason ='Balance error'\n",
        "and old_status ='ok' \n",
        "and new_status = 'error'\n",
        "and user_status_history.user_id=user.id\n",
        "UNION\n",
        "SELECT user.name, user.id, user.created, user_status_history.reason\n",
        "from user_status_history, user \n",
        "where reason ='AntiFraud'\n",
        "and old_status ='ok' \n",
        "and new_status = 'error'\n",
        "and user_status_history.user_id=user.id\n",
        ";\"\"\")\n",
        "print(*result1.fetchall(), sep = \"\\n\")"
      ],
      "execution_count": null,
      "outputs": [
        {
          "output_type": "stream",
          "text": [
            "('Богомолова Мария Давидовна', 6, '2010-02-08 09:42:35.000000', 'Balance error')\n",
            "('Зайцева Николь Вячеславовна', 10, '2011-03-08 22:57:34.000000', 'AntiFraud')\n",
            "('Зайцева Николь Вячеславовна', 10, '2011-03-08 22:57:34.000000', 'Validation error')\n",
            "('Кондратьева Кира Никитична', 13, '2018-03-15 21:31:01.000000', 'Validation error')\n",
            "('Лапин Георгий Фёдорович', 7, '2017-06-20 18:21:05.000000', 'Balance error')\n",
            "('Петрова Ульяна Данииловна', 14, '2016-06-23 20:24:51.000000', 'AntiFraud')\n",
            "('Родионова Даниэла Макаровна', 5, '2013-11-05 21:51:45.000000', 'Validation error')\n",
            "('Симонов Сергей Семонович', 16, '2020-04-19 16:23:42.000000', 'Validation error')\n"
          ],
          "name": "stdout"
        }
      ]
    },
    {
      "cell_type": "markdown",
      "metadata": {
        "id": "aaDOv_mJqf3N"
      },
      "source": [
        "по отдельности получается выцепить людей по ошибкам и по времени . а вот соединить у меня не получилось. к сожалению."
      ]
    }
  ]
}