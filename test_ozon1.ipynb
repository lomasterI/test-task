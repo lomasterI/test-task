{
  "nbformat": 4,
  "nbformat_minor": 0,
  "metadata": {
    "colab": {
      "name": "test_ozon1",
      "provenance": [],
      "collapsed_sections": [],
      "mount_file_id": "1bZ-0_PNZ2UoOvPRgLEQv25LdGAKFR8Bb",
      "authorship_tag": "ABX9TyPOAf8063L3MHM9t7dLzXcm",
      "include_colab_link": true
    },
    "kernelspec": {
      "name": "python3",
      "display_name": "Python 3"
    },
    "language_info": {
      "name": "python"
    }
  },
  "cells": [
    {
      "cell_type": "markdown",
      "metadata": {
        "id": "view-in-github",
        "colab_type": "text"
      },
      "source": [
        "<a href=\"https://colab.research.google.com/github/lomasterI/test-task/blob/main/test_ozon1.ipynb\" target=\"_parent\"><img src=\"https://colab.research.google.com/assets/colab-badge.svg\" alt=\"Open In Colab\"/></a>"
      ]
    },
    {
      "cell_type": "markdown",
      "metadata": {
        "id": "q2bFouOwUX4v"
      },
      "source": [
        "Дан файл input.txt, содержащий в себе строки, в которых в случайном порядке заданы поля, несущие определенную информацию. Каждая строка содержит в себе одинаковое количество униклаьных полей. Все строки заключены в квадратные скобки. Название поля и его значение отделяется двоеточием. Поля разделены пробелами и могут содержать:\n",
        "1) Строковые данные, которые заключены в кавычки и могут содержать пробелы\n",
        "2) Числовые данные, являющиеся последовательностью цифр.\n",
        "Выходные данные:\n",
        "Для строк, в которых значение поля function является \"MakePayment\" собрать статистику сообещний message из следующего списка: \n",
        "1) \"Validation error\" \n",
        "2) \"AntiFraud\" \n",
        "3) \"Unkown user\" \n",
        "Статистика должна включать в себя количество подобных сообщений, а также наиболее частое значение поля user_type для каждого типа сообщений. Если для какого-то сообщения максимальное количество значений полей user_type встречатеся одинаковое количество раз, то необходимо вывести любое. Данную информацию необходимо вывести в порядке убывания по количеству сообщений, сообщения с одинаковой частотой, в пределах данной частоты, выводятся в произвольном порядке. Также для строк, соответствующих вышеописанному условию, необходимо вывести значения полей user_id и message, разделяемых табуляцией, в произвольном порядке. Вывод осуществляется в файл output.txt. Вывод должен быть человекочитаемым, ожидаемый пример структуры файла output.txt:\n",
        "\n",
        "message \"Validation error\", count 2, most count user type 1\n",
        "message \"Unkown user\", count 1, most count user type 4\n",
        "message \"AntiFraud\", count 1, most count user type 3\n",
        "\n",
        "\n",
        "1\t\"Validation error\"\n",
        "2\t\"Unkown user\"\n",
        "3\t\"AntiFraud\"\n",
        "4\t\"Validation error\""
      ]
    },
    {
      "cell_type": "code",
      "metadata": {
        "id": "ZD9lsJL5Zrrh"
      },
      "source": [
        "import numpy as np    # Нампай для массивов\n",
        "import pandas as pd   # Пандас для данных\n",
        "import re             # Регулярные выражения\n",
        "from tensorflow.keras import utils # Для приведения к категориальным данным\n",
        "from google.colab import files     # Загрузка файлов\n",
        "import csv"
      ],
      "execution_count": null,
      "outputs": []
    },
    {
      "cell_type": "markdown",
      "metadata": {
        "id": "izD3qTBwr9hP"
      },
      "source": [
        "файл открыл в exl с разделителями \"пробел\" и \":\"\n",
        "потом сохранил в текстовый файл с разделением \"табуляция\""
      ]
    },
    {
      "cell_type": "code",
      "metadata": {
        "id": "Kja3MUCebvbs"
      },
      "source": [
        "df = pd.read_csv('/content/drive/MyDrive/input999.txt', header=None, sep= '\\t')"
      ],
      "execution_count": null,
      "outputs": []
    },
    {
      "cell_type": "code",
      "metadata": {
        "id": "Rm28ubvPgjul"
      },
      "source": [
        "df['a'] = df[0] + ' ' + df [1]\n",
        "df['b'] = df[2] + ' ' + df [3]\n",
        "df['c'] = df[4] + ' ' + df [5]\n",
        "df['d'] = df[6] + ' ' + df [7]\n",
        "df['e'] = df[8] + ' ' + df [9]\n",
        "df['f'] = df[10] + ' ' + df [11]\n"
      ],
      "execution_count": null,
      "outputs": []
    },
    {
      "cell_type": "code",
      "metadata": {
        "colab": {
          "base_uri": "https://localhost:8080/",
          "height": 820
        },
        "id": "MzD5mbKKpWQc",
        "outputId": "176d5309-f68d-4caf-84e2-110d7ab7a134"
      },
      "source": [
        "df1 = df[['a','b','c','d','e','f']]\n",
        "df1"
      ],
      "execution_count": null,
      "outputs": [
        {
          "output_type": "execute_result",
          "data": {
            "text/html": [
              "<div>\n",
              "<style scoped>\n",
              "    .dataframe tbody tr th:only-of-type {\n",
              "        vertical-align: middle;\n",
              "    }\n",
              "\n",
              "    .dataframe tbody tr th {\n",
              "        vertical-align: top;\n",
              "    }\n",
              "\n",
              "    .dataframe thead th {\n",
              "        text-align: right;\n",
              "    }\n",
              "</style>\n",
              "<table border=\"1\" class=\"dataframe\">\n",
              "  <thead>\n",
              "    <tr style=\"text-align: right;\">\n",
              "      <th></th>\n",
              "      <th>a</th>\n",
              "      <th>b</th>\n",
              "      <th>c</th>\n",
              "      <th>d</th>\n",
              "      <th>e</th>\n",
              "      <th>f</th>\n",
              "    </tr>\n",
              "  </thead>\n",
              "  <tbody>\n",
              "    <tr>\n",
              "      <th>0</th>\n",
              "      <td>[auth_token 9fbdf73c-3983-46ce-821b-9e80b35c2ad2</td>\n",
              "      <td>request_token 7bd4de34-2707-47bb-918e-81b6edef...</td>\n",
              "      <td>function AddBalance</td>\n",
              "      <td>user_id 2973</td>\n",
              "      <td>message Canceled</td>\n",
              "      <td>user_type 1]</td>\n",
              "    </tr>\n",
              "    <tr>\n",
              "      <th>1</th>\n",
              "      <td>[message Unkown user</td>\n",
              "      <td>user_id 1886</td>\n",
              "      <td>user_type 5</td>\n",
              "      <td>function AddOrder</td>\n",
              "      <td>request_token 0e92c262-e637-4a0e-9816-93b84ddf...</td>\n",
              "      <td>auth_token 075aca1d-d018-422a-a9b3-7e4740bf8d54]</td>\n",
              "    </tr>\n",
              "    <tr>\n",
              "      <th>2</th>\n",
              "      <td>[user_id 4024</td>\n",
              "      <td>message Validation error</td>\n",
              "      <td>request_token 18191020-0e05-4502-96e4-cf3bad0b...</td>\n",
              "      <td>function MakePayment</td>\n",
              "      <td>auth_token 6e417abf-9b72-42b8-9aff-0b105ebf4e45</td>\n",
              "      <td>user_type 3]</td>\n",
              "    </tr>\n",
              "    <tr>\n",
              "      <th>3</th>\n",
              "      <td>[user_id 680</td>\n",
              "      <td>function AddOrder</td>\n",
              "      <td>request_token 21f7f9d6-2c4c-46fc-8f64-c363d7d2...</td>\n",
              "      <td>auth_token e082ef64-07c5-43fc-a031-309366e1f802</td>\n",
              "      <td>user_type 5</td>\n",
              "      <td>message Ok]</td>\n",
              "    </tr>\n",
              "    <tr>\n",
              "      <th>4</th>\n",
              "      <td>[function AddBalance</td>\n",
              "      <td>request_token 0a534a16-96b4-4367-a401-7b66987b...</td>\n",
              "      <td>user_type 3</td>\n",
              "      <td>message Wrong Token</td>\n",
              "      <td>user_id 3824</td>\n",
              "      <td>auth_token 66e22b99-d713-47eb-8101-2111cb10a75b]</td>\n",
              "    </tr>\n",
              "    <tr>\n",
              "      <th>...</th>\n",
              "      <td>...</td>\n",
              "      <td>...</td>\n",
              "      <td>...</td>\n",
              "      <td>...</td>\n",
              "      <td>...</td>\n",
              "      <td>...</td>\n",
              "    </tr>\n",
              "    <tr>\n",
              "      <th>95</th>\n",
              "      <td>[auth_token a0b8f884-f81f-425b-8178-5eac136bcbf3</td>\n",
              "      <td>user_type 5</td>\n",
              "      <td>user_id 2974</td>\n",
              "      <td>function MakePayment</td>\n",
              "      <td>request_token 4563794c-c08e-4735-ab56-1afae513...</td>\n",
              "      <td>message Ok]</td>\n",
              "    </tr>\n",
              "    <tr>\n",
              "      <th>96</th>\n",
              "      <td>[function AddBalance</td>\n",
              "      <td>user_id 2717</td>\n",
              "      <td>message Canceled</td>\n",
              "      <td>auth_token cdae619b-c6b0-4489-9245-bef97a3f0bab</td>\n",
              "      <td>request_token eaf0c480-bf8c-4497-acaa-5ab2a062...</td>\n",
              "      <td>user_type 1]</td>\n",
              "    </tr>\n",
              "    <tr>\n",
              "      <th>97</th>\n",
              "      <td>[message Ok</td>\n",
              "      <td>user_type 2</td>\n",
              "      <td>auth_token c49f8f67-27d3-42bf-b9ce-a02c11e9d437</td>\n",
              "      <td>function MakePayment</td>\n",
              "      <td>user_id 5429</td>\n",
              "      <td>request_token 9d4e434d-6807-4b68-8fd9-c7a17dd6...</td>\n",
              "    </tr>\n",
              "    <tr>\n",
              "      <th>98</th>\n",
              "      <td>[message AntiFraud</td>\n",
              "      <td>request_token a1bc0649-ce62-4db4-b8cd-548a9617...</td>\n",
              "      <td>user_type 1</td>\n",
              "      <td>auth_token b8418c4c-49db-437f-8b76-a41de73c5347</td>\n",
              "      <td>user_id 5809</td>\n",
              "      <td>function AddOrder]</td>\n",
              "    </tr>\n",
              "    <tr>\n",
              "      <th>99</th>\n",
              "      <td>[function MakePayment</td>\n",
              "      <td>user_id 2515</td>\n",
              "      <td>auth_token ab135fd8-c5c4-40e9-bbf3-c171b5c7793f</td>\n",
              "      <td>request_token 3431b1bc-12ba-4749-ade8-c093accd...</td>\n",
              "      <td>message Ok</td>\n",
              "      <td>user_type 1]</td>\n",
              "    </tr>\n",
              "  </tbody>\n",
              "</table>\n",
              "<p>100 rows × 6 columns</p>\n",
              "</div>"
            ],
            "text/plain": [
              "                                                   a  ...                                                  f\n",
              "0   [auth_token 9fbdf73c-3983-46ce-821b-9e80b35c2ad2  ...                                       user_type 1]\n",
              "1                               [message Unkown user  ...   auth_token 075aca1d-d018-422a-a9b3-7e4740bf8d54]\n",
              "2                                      [user_id 4024  ...                                       user_type 3]\n",
              "3                                       [user_id 680  ...                                        message Ok]\n",
              "4                               [function AddBalance  ...   auth_token 66e22b99-d713-47eb-8101-2111cb10a75b]\n",
              "..                                               ...  ...                                                ...\n",
              "95  [auth_token a0b8f884-f81f-425b-8178-5eac136bcbf3  ...                                        message Ok]\n",
              "96                              [function AddBalance  ...                                       user_type 1]\n",
              "97                                       [message Ok  ...  request_token 9d4e434d-6807-4b68-8fd9-c7a17dd6...\n",
              "98                                [message AntiFraud  ...                                 function AddOrder]\n",
              "99                             [function MakePayment  ...                                       user_type 1]\n",
              "\n",
              "[100 rows x 6 columns]"
            ]
          },
          "metadata": {},
          "execution_count": 5
        }
      ]
    },
    {
      "cell_type": "code",
      "metadata": {
        "colab": {
          "base_uri": "https://localhost:8080/"
        },
        "id": "E_itv6M2sYlR",
        "outputId": "7b65dcdf-ec4d-45b9-b06e-b2ab9b2d8737"
      },
      "source": [
        "df1['a'] = df1['a'].str.replace('[','')\n",
        "df1['f'] = df1['f'].str.replace(']','')"
      ],
      "execution_count": null,
      "outputs": [
        {
          "output_type": "stream",
          "text": [
            "/usr/local/lib/python3.7/dist-packages/ipykernel_launcher.py:1: SettingWithCopyWarning: \n",
            "A value is trying to be set on a copy of a slice from a DataFrame.\n",
            "Try using .loc[row_indexer,col_indexer] = value instead\n",
            "\n",
            "See the caveats in the documentation: https://pandas.pydata.org/pandas-docs/stable/user_guide/indexing.html#returning-a-view-versus-a-copy\n",
            "  \"\"\"Entry point for launching an IPython kernel.\n",
            "/usr/local/lib/python3.7/dist-packages/ipykernel_launcher.py:2: SettingWithCopyWarning: \n",
            "A value is trying to be set on a copy of a slice from a DataFrame.\n",
            "Try using .loc[row_indexer,col_indexer] = value instead\n",
            "\n",
            "See the caveats in the documentation: https://pandas.pydata.org/pandas-docs/stable/user_guide/indexing.html#returning-a-view-versus-a-copy\n",
            "  \n"
          ],
          "name": "stderr"
        }
      ]
    },
    {
      "cell_type": "code",
      "metadata": {
        "id": "GB4OKs4T_pIg"
      },
      "source": [
        "df4 = df1"
      ],
      "execution_count": null,
      "outputs": []
    },
    {
      "cell_type": "code",
      "metadata": {
        "colab": {
          "base_uri": "https://localhost:8080/"
        },
        "id": "qdmUJxvMXCYj",
        "outputId": "376730c4-3117-450e-ce13-593edb73981a"
      },
      "source": [
        "result = []\n",
        "result1 = []\n",
        "result2 = []\n",
        "result3 = []\n",
        "result4 = []\n",
        "result5 = []\n",
        "for rowIndex, row in df4.iterrows():\n",
        "  for columnIndex, value in row.items():\n",
        "    if ('user_id' in value):\n",
        "      result.append(value)\n",
        "    elif ('type' in value):\n",
        "      result1.append(value)\n",
        "    elif ('message' in value):\n",
        "      result2.append(value)\n",
        "    elif ('function' in value):\n",
        "      result3.append(value)\n",
        "    elif ('auth' in value):\n",
        "      result4.append(value)\n",
        "    else:\n",
        "      result5.append(value)\n",
        "df4[\"Result\"] = result\n",
        "df4[\"Result1\"] = result1  \n",
        "df4[\"Result2\"] = result2  \n",
        "df4[\"Result3\"] = result3  \n",
        "df4[\"Result4\"] = result4  \n",
        "df4[\"Result5\"] = result5     \n"
      ],
      "execution_count": null,
      "outputs": [
        {
          "output_type": "stream",
          "text": [
            "/usr/local/lib/python3.7/dist-packages/ipykernel_launcher.py:21: SettingWithCopyWarning: \n",
            "A value is trying to be set on a copy of a slice from a DataFrame.\n",
            "Try using .loc[row_indexer,col_indexer] = value instead\n",
            "\n",
            "See the caveats in the documentation: https://pandas.pydata.org/pandas-docs/stable/user_guide/indexing.html#returning-a-view-versus-a-copy\n",
            "/usr/local/lib/python3.7/dist-packages/ipykernel_launcher.py:22: SettingWithCopyWarning: \n",
            "A value is trying to be set on a copy of a slice from a DataFrame.\n",
            "Try using .loc[row_indexer,col_indexer] = value instead\n",
            "\n",
            "See the caveats in the documentation: https://pandas.pydata.org/pandas-docs/stable/user_guide/indexing.html#returning-a-view-versus-a-copy\n",
            "/usr/local/lib/python3.7/dist-packages/ipykernel_launcher.py:23: SettingWithCopyWarning: \n",
            "A value is trying to be set on a copy of a slice from a DataFrame.\n",
            "Try using .loc[row_indexer,col_indexer] = value instead\n",
            "\n",
            "See the caveats in the documentation: https://pandas.pydata.org/pandas-docs/stable/user_guide/indexing.html#returning-a-view-versus-a-copy\n",
            "/usr/local/lib/python3.7/dist-packages/ipykernel_launcher.py:24: SettingWithCopyWarning: \n",
            "A value is trying to be set on a copy of a slice from a DataFrame.\n",
            "Try using .loc[row_indexer,col_indexer] = value instead\n",
            "\n",
            "See the caveats in the documentation: https://pandas.pydata.org/pandas-docs/stable/user_guide/indexing.html#returning-a-view-versus-a-copy\n",
            "/usr/local/lib/python3.7/dist-packages/ipykernel_launcher.py:25: SettingWithCopyWarning: \n",
            "A value is trying to be set on a copy of a slice from a DataFrame.\n",
            "Try using .loc[row_indexer,col_indexer] = value instead\n",
            "\n",
            "See the caveats in the documentation: https://pandas.pydata.org/pandas-docs/stable/user_guide/indexing.html#returning-a-view-versus-a-copy\n",
            "/usr/local/lib/python3.7/dist-packages/ipykernel_launcher.py:26: SettingWithCopyWarning: \n",
            "A value is trying to be set on a copy of a slice from a DataFrame.\n",
            "Try using .loc[row_indexer,col_indexer] = value instead\n",
            "\n",
            "See the caveats in the documentation: https://pandas.pydata.org/pandas-docs/stable/user_guide/indexing.html#returning-a-view-versus-a-copy\n"
          ],
          "name": "stderr"
        }
      ]
    },
    {
      "cell_type": "code",
      "metadata": {
        "id": "seiyUbPFLpxe"
      },
      "source": [
        "df2 = df4.drop(df4.columns[[0,1,2,3,4,5]],axis=1 )"
      ],
      "execution_count": null,
      "outputs": []
    },
    {
      "cell_type": "code",
      "metadata": {
        "id": "c2Kc7A7SkuXo"
      },
      "source": [
        "df2[['a', 'user_id']] = df2.Result.str.split(' ', expand=True)"
      ],
      "execution_count": null,
      "outputs": []
    },
    {
      "cell_type": "code",
      "metadata": {
        "id": "ngCE-0fElffc"
      },
      "source": [
        "df2[['b', 'user_type']] = df2.Result1.str.split(' ', expand=True)\n",
        "df2[['c', 'message']] = df2.Result2.str.split(' ', 1, expand=True)\n",
        "df2[['d', 'function']] = df2.Result3.str.split(' ', expand=True)\n",
        "df2[['e', 'auth_token']] = df2.Result4.str.split(' ', expand=True)\n",
        "df2[['f', 'request_token']] = df2.Result5.str.split(' ', expand=True)"
      ],
      "execution_count": null,
      "outputs": []
    },
    {
      "cell_type": "code",
      "metadata": {
        "colab": {
          "base_uri": "https://localhost:8080/",
          "height": 1000
        },
        "id": "z32jkvA6tSVu",
        "outputId": "79abcc94-3e4a-4b8d-c6bf-af375ec2e819"
      },
      "source": [
        "df2"
      ],
      "execution_count": null,
      "outputs": [
        {
          "output_type": "execute_result",
          "data": {
            "text/html": [
              "<div>\n",
              "<style scoped>\n",
              "    .dataframe tbody tr th:only-of-type {\n",
              "        vertical-align: middle;\n",
              "    }\n",
              "\n",
              "    .dataframe tbody tr th {\n",
              "        vertical-align: top;\n",
              "    }\n",
              "\n",
              "    .dataframe thead th {\n",
              "        text-align: right;\n",
              "    }\n",
              "</style>\n",
              "<table border=\"1\" class=\"dataframe\">\n",
              "  <thead>\n",
              "    <tr style=\"text-align: right;\">\n",
              "      <th></th>\n",
              "      <th>Result</th>\n",
              "      <th>Result1</th>\n",
              "      <th>Result2</th>\n",
              "      <th>Result3</th>\n",
              "      <th>Result4</th>\n",
              "      <th>Result5</th>\n",
              "      <th>a</th>\n",
              "      <th>user_id</th>\n",
              "      <th>b</th>\n",
              "      <th>user_type</th>\n",
              "      <th>c</th>\n",
              "      <th>message</th>\n",
              "      <th>d</th>\n",
              "      <th>function</th>\n",
              "      <th>e</th>\n",
              "      <th>auth_token</th>\n",
              "      <th>f</th>\n",
              "      <th>request_token</th>\n",
              "    </tr>\n",
              "  </thead>\n",
              "  <tbody>\n",
              "    <tr>\n",
              "      <th>0</th>\n",
              "      <td>user_id 2973</td>\n",
              "      <td>user_type 1</td>\n",
              "      <td>message Canceled</td>\n",
              "      <td>function AddBalance</td>\n",
              "      <td>auth_token 9fbdf73c-3983-46ce-821b-9e80b35c2ad2</td>\n",
              "      <td>request_token 7bd4de34-2707-47bb-918e-81b6edef...</td>\n",
              "      <td>user_id</td>\n",
              "      <td>2973</td>\n",
              "      <td>user_type</td>\n",
              "      <td>1</td>\n",
              "      <td>message</td>\n",
              "      <td>Canceled</td>\n",
              "      <td>function</td>\n",
              "      <td>AddBalance</td>\n",
              "      <td>auth_token</td>\n",
              "      <td>9fbdf73c-3983-46ce-821b-9e80b35c2ad2</td>\n",
              "      <td>request_token</td>\n",
              "      <td>7bd4de34-2707-47bb-918e-81b6edefa576</td>\n",
              "    </tr>\n",
              "    <tr>\n",
              "      <th>1</th>\n",
              "      <td>user_id 1886</td>\n",
              "      <td>user_type 5</td>\n",
              "      <td>message Unkown user</td>\n",
              "      <td>function AddOrder</td>\n",
              "      <td>auth_token 075aca1d-d018-422a-a9b3-7e4740bf8d54</td>\n",
              "      <td>request_token 0e92c262-e637-4a0e-9816-93b84ddf...</td>\n",
              "      <td>user_id</td>\n",
              "      <td>1886</td>\n",
              "      <td>user_type</td>\n",
              "      <td>5</td>\n",
              "      <td>message</td>\n",
              "      <td>Unkown user</td>\n",
              "      <td>function</td>\n",
              "      <td>AddOrder</td>\n",
              "      <td>auth_token</td>\n",
              "      <td>075aca1d-d018-422a-a9b3-7e4740bf8d54</td>\n",
              "      <td>request_token</td>\n",
              "      <td>0e92c262-e637-4a0e-9816-93b84ddfbe28</td>\n",
              "    </tr>\n",
              "    <tr>\n",
              "      <th>2</th>\n",
              "      <td>user_id 4024</td>\n",
              "      <td>user_type 3</td>\n",
              "      <td>message Validation error</td>\n",
              "      <td>function MakePayment</td>\n",
              "      <td>auth_token 6e417abf-9b72-42b8-9aff-0b105ebf4e45</td>\n",
              "      <td>request_token 18191020-0e05-4502-96e4-cf3bad0b...</td>\n",
              "      <td>user_id</td>\n",
              "      <td>4024</td>\n",
              "      <td>user_type</td>\n",
              "      <td>3</td>\n",
              "      <td>message</td>\n",
              "      <td>Validation error</td>\n",
              "      <td>function</td>\n",
              "      <td>MakePayment</td>\n",
              "      <td>auth_token</td>\n",
              "      <td>6e417abf-9b72-42b8-9aff-0b105ebf4e45</td>\n",
              "      <td>request_token</td>\n",
              "      <td>18191020-0e05-4502-96e4-cf3bad0bb87d</td>\n",
              "    </tr>\n",
              "    <tr>\n",
              "      <th>3</th>\n",
              "      <td>user_id 680</td>\n",
              "      <td>user_type 5</td>\n",
              "      <td>message Ok</td>\n",
              "      <td>function AddOrder</td>\n",
              "      <td>auth_token e082ef64-07c5-43fc-a031-309366e1f802</td>\n",
              "      <td>request_token 21f7f9d6-2c4c-46fc-8f64-c363d7d2...</td>\n",
              "      <td>user_id</td>\n",
              "      <td>680</td>\n",
              "      <td>user_type</td>\n",
              "      <td>5</td>\n",
              "      <td>message</td>\n",
              "      <td>Ok</td>\n",
              "      <td>function</td>\n",
              "      <td>AddOrder</td>\n",
              "      <td>auth_token</td>\n",
              "      <td>e082ef64-07c5-43fc-a031-309366e1f802</td>\n",
              "      <td>request_token</td>\n",
              "      <td>21f7f9d6-2c4c-46fc-8f64-c363d7d29545</td>\n",
              "    </tr>\n",
              "    <tr>\n",
              "      <th>4</th>\n",
              "      <td>user_id 3824</td>\n",
              "      <td>user_type 3</td>\n",
              "      <td>message Wrong Token</td>\n",
              "      <td>function AddBalance</td>\n",
              "      <td>auth_token 66e22b99-d713-47eb-8101-2111cb10a75b</td>\n",
              "      <td>request_token 0a534a16-96b4-4367-a401-7b66987b...</td>\n",
              "      <td>user_id</td>\n",
              "      <td>3824</td>\n",
              "      <td>user_type</td>\n",
              "      <td>3</td>\n",
              "      <td>message</td>\n",
              "      <td>Wrong Token</td>\n",
              "      <td>function</td>\n",
              "      <td>AddBalance</td>\n",
              "      <td>auth_token</td>\n",
              "      <td>66e22b99-d713-47eb-8101-2111cb10a75b</td>\n",
              "      <td>request_token</td>\n",
              "      <td>0a534a16-96b4-4367-a401-7b66987b140b</td>\n",
              "    </tr>\n",
              "    <tr>\n",
              "      <th>...</th>\n",
              "      <td>...</td>\n",
              "      <td>...</td>\n",
              "      <td>...</td>\n",
              "      <td>...</td>\n",
              "      <td>...</td>\n",
              "      <td>...</td>\n",
              "      <td>...</td>\n",
              "      <td>...</td>\n",
              "      <td>...</td>\n",
              "      <td>...</td>\n",
              "      <td>...</td>\n",
              "      <td>...</td>\n",
              "      <td>...</td>\n",
              "      <td>...</td>\n",
              "      <td>...</td>\n",
              "      <td>...</td>\n",
              "      <td>...</td>\n",
              "      <td>...</td>\n",
              "    </tr>\n",
              "    <tr>\n",
              "      <th>95</th>\n",
              "      <td>user_id 2974</td>\n",
              "      <td>user_type 5</td>\n",
              "      <td>message Ok</td>\n",
              "      <td>function MakePayment</td>\n",
              "      <td>auth_token a0b8f884-f81f-425b-8178-5eac136bcbf3</td>\n",
              "      <td>request_token 4563794c-c08e-4735-ab56-1afae513...</td>\n",
              "      <td>user_id</td>\n",
              "      <td>2974</td>\n",
              "      <td>user_type</td>\n",
              "      <td>5</td>\n",
              "      <td>message</td>\n",
              "      <td>Ok</td>\n",
              "      <td>function</td>\n",
              "      <td>MakePayment</td>\n",
              "      <td>auth_token</td>\n",
              "      <td>a0b8f884-f81f-425b-8178-5eac136bcbf3</td>\n",
              "      <td>request_token</td>\n",
              "      <td>4563794c-c08e-4735-ab56-1afae513ad0e</td>\n",
              "    </tr>\n",
              "    <tr>\n",
              "      <th>96</th>\n",
              "      <td>user_id 2717</td>\n",
              "      <td>user_type 1</td>\n",
              "      <td>message Canceled</td>\n",
              "      <td>function AddBalance</td>\n",
              "      <td>auth_token cdae619b-c6b0-4489-9245-bef97a3f0bab</td>\n",
              "      <td>request_token eaf0c480-bf8c-4497-acaa-5ab2a062...</td>\n",
              "      <td>user_id</td>\n",
              "      <td>2717</td>\n",
              "      <td>user_type</td>\n",
              "      <td>1</td>\n",
              "      <td>message</td>\n",
              "      <td>Canceled</td>\n",
              "      <td>function</td>\n",
              "      <td>AddBalance</td>\n",
              "      <td>auth_token</td>\n",
              "      <td>cdae619b-c6b0-4489-9245-bef97a3f0bab</td>\n",
              "      <td>request_token</td>\n",
              "      <td>eaf0c480-bf8c-4497-acaa-5ab2a06264cf</td>\n",
              "    </tr>\n",
              "    <tr>\n",
              "      <th>97</th>\n",
              "      <td>user_id 5429</td>\n",
              "      <td>user_type 2</td>\n",
              "      <td>message Ok</td>\n",
              "      <td>function MakePayment</td>\n",
              "      <td>auth_token c49f8f67-27d3-42bf-b9ce-a02c11e9d437</td>\n",
              "      <td>request_token 9d4e434d-6807-4b68-8fd9-c7a17dd6...</td>\n",
              "      <td>user_id</td>\n",
              "      <td>5429</td>\n",
              "      <td>user_type</td>\n",
              "      <td>2</td>\n",
              "      <td>message</td>\n",
              "      <td>Ok</td>\n",
              "      <td>function</td>\n",
              "      <td>MakePayment</td>\n",
              "      <td>auth_token</td>\n",
              "      <td>c49f8f67-27d3-42bf-b9ce-a02c11e9d437</td>\n",
              "      <td>request_token</td>\n",
              "      <td>9d4e434d-6807-4b68-8fd9-c7a17dd67e71</td>\n",
              "    </tr>\n",
              "    <tr>\n",
              "      <th>98</th>\n",
              "      <td>user_id 5809</td>\n",
              "      <td>user_type 1</td>\n",
              "      <td>message AntiFraud</td>\n",
              "      <td>function AddOrder</td>\n",
              "      <td>auth_token b8418c4c-49db-437f-8b76-a41de73c5347</td>\n",
              "      <td>request_token a1bc0649-ce62-4db4-b8cd-548a9617...</td>\n",
              "      <td>user_id</td>\n",
              "      <td>5809</td>\n",
              "      <td>user_type</td>\n",
              "      <td>1</td>\n",
              "      <td>message</td>\n",
              "      <td>AntiFraud</td>\n",
              "      <td>function</td>\n",
              "      <td>AddOrder</td>\n",
              "      <td>auth_token</td>\n",
              "      <td>b8418c4c-49db-437f-8b76-a41de73c5347</td>\n",
              "      <td>request_token</td>\n",
              "      <td>a1bc0649-ce62-4db4-b8cd-548a9617d2f3</td>\n",
              "    </tr>\n",
              "    <tr>\n",
              "      <th>99</th>\n",
              "      <td>user_id 2515</td>\n",
              "      <td>user_type 1</td>\n",
              "      <td>message Ok</td>\n",
              "      <td>function MakePayment</td>\n",
              "      <td>auth_token ab135fd8-c5c4-40e9-bbf3-c171b5c7793f</td>\n",
              "      <td>request_token 3431b1bc-12ba-4749-ade8-c093accd...</td>\n",
              "      <td>user_id</td>\n",
              "      <td>2515</td>\n",
              "      <td>user_type</td>\n",
              "      <td>1</td>\n",
              "      <td>message</td>\n",
              "      <td>Ok</td>\n",
              "      <td>function</td>\n",
              "      <td>MakePayment</td>\n",
              "      <td>auth_token</td>\n",
              "      <td>ab135fd8-c5c4-40e9-bbf3-c171b5c7793f</td>\n",
              "      <td>request_token</td>\n",
              "      <td>3431b1bc-12ba-4749-ade8-c093accd4fb5</td>\n",
              "    </tr>\n",
              "  </tbody>\n",
              "</table>\n",
              "<p>100 rows × 18 columns</p>\n",
              "</div>"
            ],
            "text/plain": [
              "          Result  ...                         request_token\n",
              "0   user_id 2973  ...  7bd4de34-2707-47bb-918e-81b6edefa576\n",
              "1   user_id 1886  ...  0e92c262-e637-4a0e-9816-93b84ddfbe28\n",
              "2   user_id 4024  ...  18191020-0e05-4502-96e4-cf3bad0bb87d\n",
              "3    user_id 680  ...  21f7f9d6-2c4c-46fc-8f64-c363d7d29545\n",
              "4   user_id 3824  ...  0a534a16-96b4-4367-a401-7b66987b140b\n",
              "..           ...  ...                                   ...\n",
              "95  user_id 2974  ...  4563794c-c08e-4735-ab56-1afae513ad0e\n",
              "96  user_id 2717  ...  eaf0c480-bf8c-4497-acaa-5ab2a06264cf\n",
              "97  user_id 5429  ...  9d4e434d-6807-4b68-8fd9-c7a17dd67e71\n",
              "98  user_id 5809  ...  a1bc0649-ce62-4db4-b8cd-548a9617d2f3\n",
              "99  user_id 2515  ...  3431b1bc-12ba-4749-ade8-c093accd4fb5\n",
              "\n",
              "[100 rows x 18 columns]"
            ]
          },
          "metadata": {},
          "execution_count": 12
        }
      ]
    },
    {
      "cell_type": "code",
      "metadata": {
        "id": "HR4QhdcDtoJC"
      },
      "source": [
        "dataf = df2.drop(df2.columns[[0,1,2,3,4,5,6,8,10,12,14,16]],axis=1 )"
      ],
      "execution_count": null,
      "outputs": []
    },
    {
      "cell_type": "code",
      "metadata": {
        "colab": {
          "base_uri": "https://localhost:8080/",
          "height": 467
        },
        "id": "Fx6OvuZ_uJWZ",
        "outputId": "f56e695e-461f-42fc-a52e-ba77fb2e7ef5"
      },
      "source": [
        "dataf"
      ],
      "execution_count": null,
      "outputs": [
        {
          "output_type": "execute_result",
          "data": {
            "text/html": [
              "<div>\n",
              "<style scoped>\n",
              "    .dataframe tbody tr th:only-of-type {\n",
              "        vertical-align: middle;\n",
              "    }\n",
              "\n",
              "    .dataframe tbody tr th {\n",
              "        vertical-align: top;\n",
              "    }\n",
              "\n",
              "    .dataframe thead th {\n",
              "        text-align: right;\n",
              "    }\n",
              "</style>\n",
              "<table border=\"1\" class=\"dataframe\">\n",
              "  <thead>\n",
              "    <tr style=\"text-align: right;\">\n",
              "      <th></th>\n",
              "      <th>user_id</th>\n",
              "      <th>user_type</th>\n",
              "      <th>message</th>\n",
              "      <th>function</th>\n",
              "      <th>auth_token</th>\n",
              "      <th>request_token</th>\n",
              "    </tr>\n",
              "  </thead>\n",
              "  <tbody>\n",
              "    <tr>\n",
              "      <th>0</th>\n",
              "      <td>2973</td>\n",
              "      <td>1</td>\n",
              "      <td>Canceled</td>\n",
              "      <td>AddBalance</td>\n",
              "      <td>9fbdf73c-3983-46ce-821b-9e80b35c2ad2</td>\n",
              "      <td>7bd4de34-2707-47bb-918e-81b6edefa576</td>\n",
              "    </tr>\n",
              "    <tr>\n",
              "      <th>1</th>\n",
              "      <td>1886</td>\n",
              "      <td>5</td>\n",
              "      <td>Unkown user</td>\n",
              "      <td>AddOrder</td>\n",
              "      <td>075aca1d-d018-422a-a9b3-7e4740bf8d54</td>\n",
              "      <td>0e92c262-e637-4a0e-9816-93b84ddfbe28</td>\n",
              "    </tr>\n",
              "    <tr>\n",
              "      <th>2</th>\n",
              "      <td>4024</td>\n",
              "      <td>3</td>\n",
              "      <td>Validation error</td>\n",
              "      <td>MakePayment</td>\n",
              "      <td>6e417abf-9b72-42b8-9aff-0b105ebf4e45</td>\n",
              "      <td>18191020-0e05-4502-96e4-cf3bad0bb87d</td>\n",
              "    </tr>\n",
              "    <tr>\n",
              "      <th>3</th>\n",
              "      <td>680</td>\n",
              "      <td>5</td>\n",
              "      <td>Ok</td>\n",
              "      <td>AddOrder</td>\n",
              "      <td>e082ef64-07c5-43fc-a031-309366e1f802</td>\n",
              "      <td>21f7f9d6-2c4c-46fc-8f64-c363d7d29545</td>\n",
              "    </tr>\n",
              "    <tr>\n",
              "      <th>4</th>\n",
              "      <td>3824</td>\n",
              "      <td>3</td>\n",
              "      <td>Wrong Token</td>\n",
              "      <td>AddBalance</td>\n",
              "      <td>66e22b99-d713-47eb-8101-2111cb10a75b</td>\n",
              "      <td>0a534a16-96b4-4367-a401-7b66987b140b</td>\n",
              "    </tr>\n",
              "    <tr>\n",
              "      <th>...</th>\n",
              "      <td>...</td>\n",
              "      <td>...</td>\n",
              "      <td>...</td>\n",
              "      <td>...</td>\n",
              "      <td>...</td>\n",
              "      <td>...</td>\n",
              "    </tr>\n",
              "    <tr>\n",
              "      <th>95</th>\n",
              "      <td>2974</td>\n",
              "      <td>5</td>\n",
              "      <td>Ok</td>\n",
              "      <td>MakePayment</td>\n",
              "      <td>a0b8f884-f81f-425b-8178-5eac136bcbf3</td>\n",
              "      <td>4563794c-c08e-4735-ab56-1afae513ad0e</td>\n",
              "    </tr>\n",
              "    <tr>\n",
              "      <th>96</th>\n",
              "      <td>2717</td>\n",
              "      <td>1</td>\n",
              "      <td>Canceled</td>\n",
              "      <td>AddBalance</td>\n",
              "      <td>cdae619b-c6b0-4489-9245-bef97a3f0bab</td>\n",
              "      <td>eaf0c480-bf8c-4497-acaa-5ab2a06264cf</td>\n",
              "    </tr>\n",
              "    <tr>\n",
              "      <th>97</th>\n",
              "      <td>5429</td>\n",
              "      <td>2</td>\n",
              "      <td>Ok</td>\n",
              "      <td>MakePayment</td>\n",
              "      <td>c49f8f67-27d3-42bf-b9ce-a02c11e9d437</td>\n",
              "      <td>9d4e434d-6807-4b68-8fd9-c7a17dd67e71</td>\n",
              "    </tr>\n",
              "    <tr>\n",
              "      <th>98</th>\n",
              "      <td>5809</td>\n",
              "      <td>1</td>\n",
              "      <td>AntiFraud</td>\n",
              "      <td>AddOrder</td>\n",
              "      <td>b8418c4c-49db-437f-8b76-a41de73c5347</td>\n",
              "      <td>a1bc0649-ce62-4db4-b8cd-548a9617d2f3</td>\n",
              "    </tr>\n",
              "    <tr>\n",
              "      <th>99</th>\n",
              "      <td>2515</td>\n",
              "      <td>1</td>\n",
              "      <td>Ok</td>\n",
              "      <td>MakePayment</td>\n",
              "      <td>ab135fd8-c5c4-40e9-bbf3-c171b5c7793f</td>\n",
              "      <td>3431b1bc-12ba-4749-ade8-c093accd4fb5</td>\n",
              "    </tr>\n",
              "  </tbody>\n",
              "</table>\n",
              "<p>100 rows × 6 columns</p>\n",
              "</div>"
            ],
            "text/plain": [
              "   user_id  ...                         request_token\n",
              "0     2973  ...  7bd4de34-2707-47bb-918e-81b6edefa576\n",
              "1     1886  ...  0e92c262-e637-4a0e-9816-93b84ddfbe28\n",
              "2     4024  ...  18191020-0e05-4502-96e4-cf3bad0bb87d\n",
              "3      680  ...  21f7f9d6-2c4c-46fc-8f64-c363d7d29545\n",
              "4     3824  ...  0a534a16-96b4-4367-a401-7b66987b140b\n",
              "..     ...  ...                                   ...\n",
              "95    2974  ...  4563794c-c08e-4735-ab56-1afae513ad0e\n",
              "96    2717  ...  eaf0c480-bf8c-4497-acaa-5ab2a06264cf\n",
              "97    5429  ...  9d4e434d-6807-4b68-8fd9-c7a17dd67e71\n",
              "98    5809  ...  a1bc0649-ce62-4db4-b8cd-548a9617d2f3\n",
              "99    2515  ...  3431b1bc-12ba-4749-ade8-c093accd4fb5\n",
              "\n",
              "[100 rows x 6 columns]"
            ]
          },
          "metadata": {},
          "execution_count": 14
        }
      ]
    },
    {
      "cell_type": "code",
      "metadata": {
        "id": "vnV1eImhNWp6"
      },
      "source": [
        "datadata = dataf"
      ],
      "execution_count": null,
      "outputs": []
    },
    {
      "cell_type": "code",
      "metadata": {
        "id": "BimcNPtBRn7z"
      },
      "source": [
        "data22 = datadata.groupby(['function','message', 'user_type', 'user_id'],as_index=False).max()"
      ],
      "execution_count": null,
      "outputs": []
    },
    {
      "cell_type": "code",
      "metadata": {
        "id": "NAJZ-FMnT_6X"
      },
      "source": [
        "data22 = data22.loc[data22['function'] == 'MakePayment']"
      ],
      "execution_count": null,
      "outputs": []
    },
    {
      "cell_type": "code",
      "metadata": {
        "id": "tcOvsCjUVXhn"
      },
      "source": [
        "data22 = data22.loc[data22['message'] != 'Ok']\n",
        "data22 = data22.loc[data22['message'] != 'Wrong Token']\n",
        "data22 = data22.loc[data22['message'] != 'Canceled']"
      ],
      "execution_count": null,
      "outputs": []
    },
    {
      "cell_type": "code",
      "metadata": {
        "colab": {
          "base_uri": "https://localhost:8080/"
        },
        "id": "1LJhf0rONW9F",
        "outputId": "3643fcce-a6df-4365-a742-5af4639ae258"
      },
      "source": [
        "data22['message'].value_counts()\n",
        "#сколько какое сообщение встречается раз"
      ],
      "execution_count": null,
      "outputs": [
        {
          "output_type": "execute_result",
          "data": {
            "text/plain": [
              "Validation error    6\n",
              "AntiFraud           6\n",
              "Unkown user         4\n",
              "Name: message, dtype: int64"
            ]
          },
          "metadata": {},
          "execution_count": 19
        }
      ]
    },
    {
      "cell_type": "code",
      "metadata": {
        "colab": {
          "base_uri": "https://localhost:8080/"
        },
        "id": "YmZJdaAPCiWc",
        "outputId": "53e71256-ca45-4fd4-a237-cfcede7a5eb9"
      },
      "source": [
        "data22[(data22['function'] == 'MakePayment') & (data22['message'] == 'Validation error')]['user_type'].mode()\n",
        "#самые часто повторяющиеся значение в столбце 'user_type' для 'Validation error'"
      ],
      "execution_count": null,
      "outputs": [
        {
          "output_type": "execute_result",
          "data": {
            "text/plain": [
              "0    1\n",
              "dtype: object"
            ]
          },
          "metadata": {},
          "execution_count": 20
        }
      ]
    },
    {
      "cell_type": "code",
      "metadata": {
        "colab": {
          "base_uri": "https://localhost:8080/"
        },
        "id": "cedTvVM_N858",
        "outputId": "f8705bea-9b70-4cc5-806c-38cfb526d11e"
      },
      "source": [
        "data22[(data22['function'] == 'MakePayment') & (data22['message'] == 'AntiFraud')]['user_type'].mode()\n",
        "#самые часто повторяющиеся значение в столбце 'user_type' для 'AntiFraud'\n",
        "#тут их несколько"
      ],
      "execution_count": null,
      "outputs": [
        {
          "output_type": "execute_result",
          "data": {
            "text/plain": [
              "0    2\n",
              "1    5\n",
              "dtype: object"
            ]
          },
          "metadata": {},
          "execution_count": 21
        }
      ]
    },
    {
      "cell_type": "code",
      "metadata": {
        "colab": {
          "base_uri": "https://localhost:8080/"
        },
        "id": "_ekblEBROMN4",
        "outputId": "1395667d-5168-4fdc-9691-d1b3c77ecdbd"
      },
      "source": [
        "data22[(data22['function'] == 'MakePayment') & (data22['message'] == 'Unkown user')]['user_type'].mode()\n",
        "#самые часто повторяющиеся значение в столбце 'user_type' для 'Unkown user'"
      ],
      "execution_count": null,
      "outputs": [
        {
          "output_type": "execute_result",
          "data": {
            "text/plain": [
              "0    1\n",
              "dtype: object"
            ]
          },
          "metadata": {},
          "execution_count": 22
        }
      ]
    },
    {
      "cell_type": "code",
      "metadata": {
        "id": "lshVIBgmWez8"
      },
      "source": [
        "data33 = data22.drop(data22.columns[[0,2,4,5]],axis=1 )"
      ],
      "execution_count": null,
      "outputs": []
    },
    {
      "cell_type": "code",
      "metadata": {
        "colab": {
          "base_uri": "https://localhost:8080/",
          "height": 542
        },
        "id": "jYVlO2bdYTny",
        "outputId": "fcc534af-c3c0-436d-cbaf-c7f574608183"
      },
      "source": [
        "data33\n",
        "# значения полей user_id и message"
      ],
      "execution_count": null,
      "outputs": [
        {
          "output_type": "execute_result",
          "data": {
            "text/html": [
              "<div>\n",
              "<style scoped>\n",
              "    .dataframe tbody tr th:only-of-type {\n",
              "        vertical-align: middle;\n",
              "    }\n",
              "\n",
              "    .dataframe tbody tr th {\n",
              "        vertical-align: top;\n",
              "    }\n",
              "\n",
              "    .dataframe thead th {\n",
              "        text-align: right;\n",
              "    }\n",
              "</style>\n",
              "<table border=\"1\" class=\"dataframe\">\n",
              "  <thead>\n",
              "    <tr style=\"text-align: right;\">\n",
              "      <th></th>\n",
              "      <th>message</th>\n",
              "      <th>user_id</th>\n",
              "    </tr>\n",
              "  </thead>\n",
              "  <tbody>\n",
              "    <tr>\n",
              "      <th>68</th>\n",
              "      <td>AntiFraud</td>\n",
              "      <td>735</td>\n",
              "    </tr>\n",
              "    <tr>\n",
              "      <th>69</th>\n",
              "      <td>AntiFraud</td>\n",
              "      <td>2193</td>\n",
              "    </tr>\n",
              "    <tr>\n",
              "      <th>70</th>\n",
              "      <td>AntiFraud</td>\n",
              "      <td>3080</td>\n",
              "    </tr>\n",
              "    <tr>\n",
              "      <th>71</th>\n",
              "      <td>AntiFraud</td>\n",
              "      <td>1650</td>\n",
              "    </tr>\n",
              "    <tr>\n",
              "      <th>72</th>\n",
              "      <td>AntiFraud</td>\n",
              "      <td>5938</td>\n",
              "    </tr>\n",
              "    <tr>\n",
              "      <th>73</th>\n",
              "      <td>AntiFraud</td>\n",
              "      <td>9678</td>\n",
              "    </tr>\n",
              "    <tr>\n",
              "      <th>86</th>\n",
              "      <td>Unkown user</td>\n",
              "      <td>3867</td>\n",
              "    </tr>\n",
              "    <tr>\n",
              "      <th>87</th>\n",
              "      <td>Unkown user</td>\n",
              "      <td>5227</td>\n",
              "    </tr>\n",
              "    <tr>\n",
              "      <th>88</th>\n",
              "      <td>Unkown user</td>\n",
              "      <td>6195</td>\n",
              "    </tr>\n",
              "    <tr>\n",
              "      <th>89</th>\n",
              "      <td>Unkown user</td>\n",
              "      <td>9028</td>\n",
              "    </tr>\n",
              "    <tr>\n",
              "      <th>90</th>\n",
              "      <td>Validation error</td>\n",
              "      <td>1002</td>\n",
              "    </tr>\n",
              "    <tr>\n",
              "      <th>91</th>\n",
              "      <td>Validation error</td>\n",
              "      <td>3438</td>\n",
              "    </tr>\n",
              "    <tr>\n",
              "      <th>92</th>\n",
              "      <td>Validation error</td>\n",
              "      <td>5945</td>\n",
              "    </tr>\n",
              "    <tr>\n",
              "      <th>93</th>\n",
              "      <td>Validation error</td>\n",
              "      <td>5500</td>\n",
              "    </tr>\n",
              "    <tr>\n",
              "      <th>94</th>\n",
              "      <td>Validation error</td>\n",
              "      <td>7517</td>\n",
              "    </tr>\n",
              "    <tr>\n",
              "      <th>95</th>\n",
              "      <td>Validation error</td>\n",
              "      <td>4024</td>\n",
              "    </tr>\n",
              "  </tbody>\n",
              "</table>\n",
              "</div>"
            ],
            "text/plain": [
              "             message user_id\n",
              "68         AntiFraud     735\n",
              "69         AntiFraud    2193\n",
              "70         AntiFraud    3080\n",
              "71         AntiFraud    1650\n",
              "72         AntiFraud    5938\n",
              "73         AntiFraud    9678\n",
              "86       Unkown user    3867\n",
              "87       Unkown user    5227\n",
              "88       Unkown user    6195\n",
              "89       Unkown user    9028\n",
              "90  Validation error    1002\n",
              "91  Validation error    3438\n",
              "92  Validation error    5945\n",
              "93  Validation error    5500\n",
              "94  Validation error    7517\n",
              "95  Validation error    4024"
            ]
          },
          "metadata": {},
          "execution_count": 24
        }
      ]
    },
    {
      "cell_type": "code",
      "metadata": {
        "id": "0qGdw4h0T_fY"
      },
      "source": [
        "f = open('/content/drive/MyDrive/output (1).txt','w')  # открытие в режиме записи\n",
        ">>> f.write('''message \"Validation error\", count 6, most count user type 1\n",
        "message \"AntiFraud\", count 6, most count user type 2\n",
        "message \"Unkown user\", count 4, most count user type 1''')  # запись  в файл\n",
        "f.close()  # закрытие файла"
      ],
      "execution_count": null,
      "outputs": []
    },
    {
      "cell_type": "code",
      "metadata": {
        "id": "jx2zXSeHQs60"
      },
      "source": [
        "data33.to_csv(r\"/content/drive/MyDrive/output (1).txt\", header=None, index=None, sep=' ', mode='a')"
      ],
      "execution_count": null,
      "outputs": []
    }
  ]
}